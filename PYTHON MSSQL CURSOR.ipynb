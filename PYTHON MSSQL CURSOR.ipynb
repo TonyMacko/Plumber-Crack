{
 "cells": [
  {
   "cell_type": "code",
   "execution_count": 1,
   "metadata": {},
   "outputs": [],
   "source": [
    "import pandas as pd\n",
    "import pymssql"
   ]
  },
  {
   "cell_type": "code",
   "execution_count": 3,
   "metadata": {},
   "outputs": [],
   "source": [
    "server=\"mssql.ti.local:1435\"\n",
    "user=\"bhdmq\"\n",
    "password=\"************************\"\n",
    "dbname=\"BullhornDM\"\n",
    "\n",
    "conn = pymssql.connect(server, user, password, dbname, charset=\"ISO-8859-1\")\n",
    "cursor = conn.cursor()"
   ]
  },
  {
   "cell_type": "code",
   "execution_count": 4,
   "metadata": {},
   "outputs": [],
   "source": [
    "cursor.execute(\"\"\"\n",
    "SELECT \n",
    "       CU.customText1\t\t\t\t[EMPLOYEE_ID]\n",
    "\t  ,isnull(case when len(UPPER(CC.[customText1])) <5 then '0' else UPPER(CC.[customText1]) end,'0') [CLIENT_ID]\n",
    "\t  ,UPPER([action]) as\t\t\t[ACTION]\n",
    "      ,CONVERT(varchar,(note.[dateAdded]),101) as\t\t\t\t[ACTION_DATE]\n",
    "\t  ,UPPER([trackTitle])\t\t\t[TYPE]\n",
    "\t ,count(distinct note.noteid)\t\t\t\t\t\t\t[COUNT]\n",
    "\t --,1 [COUNT]\n",
    "\n",
    "  FROM [BULLHORNDM].[dbo].[Note] Note\n",
    "  Left JOIN [BULLHORNDM].[dbo].[NoteEntity] NE on Note.noteID = NE.noteID\n",
    "  Left JOIN [BULLHORNDM].[dbo].[CorporateUser] CU on Note.[commentingPersonID] = CU.[userID]\n",
    "  Left JOIN [BULLHORNDM].[dbo].[ClientCorporation]CC on note.personReferenceID = cc.clientCorporationID\n",
    "       \n",
    "  where len(CU.customText1) >1\n",
    " \n",
    "\n",
    "  group by\n",
    "\n",
    "        CU.customText1\t\t\t\t\n",
    "\t  ,case when len(UPPER(CC.[customText1])) <5 then '0' else \tUPPER(CC.[customText1]) end\t\n",
    "      ,UPPER([action]) \n",
    "      ,CONVERT(varchar,(note.[dateAdded]),101) \n",
    "\t  ,UPPER([trackTitle])\t\n",
    "               \n",
    "\"\"\")"
   ]
  },
  {
   "cell_type": "code",
   "execution_count": 5,
   "metadata": {},
   "outputs": [],
   "source": [
    "rows = cursor.fetchall()\n",
    "\n",
    "\n",
    "\n",
    "df1 = pd.DataFrame(rows)\n",
    "df1.columns = [item[0] for item in cursor.description]\n",
    "df1.columns = ['EMPLOYEE_ID','CLIENT_ID','ACTION', '445_DATE','CONTACT_TYPE', 'COUNT']\n",
    "df1['445_DATE'] = pd.to_datetime(df1['445_DATE'])\n",
    "\n"
   ]
  },
  {
   "cell_type": "code",
   "execution_count": 6,
   "metadata": {},
   "outputs": [
    {
     "data": {
      "text/html": [
       "<div>\n",
       "<style scoped>\n",
       "    .dataframe tbody tr th:only-of-type {\n",
       "        vertical-align: middle;\n",
       "    }\n",
       "\n",
       "    .dataframe tbody tr th {\n",
       "        vertical-align: top;\n",
       "    }\n",
       "\n",
       "    .dataframe thead th {\n",
       "        text-align: right;\n",
       "    }\n",
       "</style>\n",
       "<table border=\"1\" class=\"dataframe\">\n",
       "  <thead>\n",
       "    <tr style=\"text-align: right;\">\n",
       "      <th></th>\n",
       "      <th>EMPLOYEE_ID</th>\n",
       "      <th>CLIENT_ID</th>\n",
       "      <th>ACTION</th>\n",
       "      <th>445_DATE</th>\n",
       "      <th>CONTACT_TYPE</th>\n",
       "      <th>COUNT</th>\n",
       "    </tr>\n",
       "  </thead>\n",
       "  <tbody>\n",
       "    <tr>\n",
       "      <th>0</th>\n",
       "      <td>10035</td>\n",
       "      <td>0</td>\n",
       "      <td>APPOINTMENT</td>\n",
       "      <td>2019-04-02</td>\n",
       "      <td>None</td>\n",
       "      <td>1</td>\n",
       "    </tr>\n",
       "    <tr>\n",
       "      <th>1</th>\n",
       "      <td>10035</td>\n",
       "      <td>0</td>\n",
       "      <td>APPOINTMENT</td>\n",
       "      <td>2019-05-23</td>\n",
       "      <td>None</td>\n",
       "      <td>1</td>\n",
       "    </tr>\n",
       "    <tr>\n",
       "      <th>2</th>\n",
       "      <td>10035</td>\n",
       "      <td>0</td>\n",
       "      <td>APPOINTMENT</td>\n",
       "      <td>2019-06-05</td>\n",
       "      <td>None</td>\n",
       "      <td>1</td>\n",
       "    </tr>\n",
       "    <tr>\n",
       "      <th>3</th>\n",
       "      <td>10035</td>\n",
       "      <td>0</td>\n",
       "      <td>APPOINTMENT</td>\n",
       "      <td>2019-06-05</td>\n",
       "      <td>PROSPECT</td>\n",
       "      <td>1</td>\n",
       "    </tr>\n",
       "    <tr>\n",
       "      <th>4</th>\n",
       "      <td>10035</td>\n",
       "      <td>0</td>\n",
       "      <td>EMAIL</td>\n",
       "      <td>2019-04-02</td>\n",
       "      <td>PROSPECT</td>\n",
       "      <td>1</td>\n",
       "    </tr>\n",
       "  </tbody>\n",
       "</table>\n",
       "</div>"
      ],
      "text/plain": [
       "  EMPLOYEE_ID CLIENT_ID       ACTION   445_DATE CONTACT_TYPE  COUNT\n",
       "0       10035         0  APPOINTMENT 2019-04-02         None      1\n",
       "1       10035         0  APPOINTMENT 2019-05-23         None      1\n",
       "2       10035         0  APPOINTMENT 2019-06-05         None      1\n",
       "3       10035         0  APPOINTMENT 2019-06-05     PROSPECT      1\n",
       "4       10035         0        EMAIL 2019-04-02     PROSPECT      1"
      ]
     },
     "execution_count": 6,
     "metadata": {},
     "output_type": "execute_result"
    }
   ],
   "source": [
    "df1.head()"
   ]
  },
  {
   "cell_type": "code",
   "execution_count": 7,
   "metadata": {},
   "outputs": [
    {
     "name": "stdout",
     "output_type": "stream",
     "text": [
      "<class 'pandas.core.frame.DataFrame'>\n",
      "RangeIndex: 190448 entries, 0 to 190447\n",
      "Data columns (total 6 columns):\n",
      "EMPLOYEE_ID     190448 non-null object\n",
      "CLIENT_ID       190448 non-null object\n",
      "ACTION          190448 non-null object\n",
      "445_DATE        190448 non-null datetime64[ns]\n",
      "CONTACT_TYPE    81297 non-null object\n",
      "COUNT           190448 non-null int64\n",
      "dtypes: datetime64[ns](1), int64(1), object(4)\n",
      "memory usage: 8.7+ MB\n"
     ]
    }
   ],
   "source": [
    "df1.info()"
   ]
  },
  {
   "cell_type": "code",
   "execution_count": null,
   "metadata": {},
   "outputs": [],
   "source": []
  }
 ],
 "metadata": {
  "kernelspec": {
   "display_name": "Python 3",
   "language": "python",
   "name": "python3"
  },
  "language_info": {
   "codemirror_mode": {
    "name": "ipython",
    "version": 3
   },
   "file_extension": ".py",
   "mimetype": "text/x-python",
   "name": "python",
   "nbconvert_exporter": "python",
   "pygments_lexer": "ipython3",
   "version": "3.6.8"
  }
 },
 "nbformat": 4,
 "nbformat_minor": 2
}
